{
 "cells": [
  {
   "cell_type": "code",
   "execution_count": 1,
   "id": "initial_id",
   "metadata": {
    "collapsed": true,
    "ExecuteTime": {
     "end_time": "2024-01-04T03:59:40.377644Z",
     "start_time": "2024-01-04T03:59:39.592607Z"
    }
   },
   "outputs": [
    {
     "data": {
      "text/plain": "    age  gender      genre\n0    20       1     HipHop\n1    23       1     HipHop\n2    25       1     HipHop\n3    26       1       Jazz\n4    29       1       Jazz\n5    30       1       Jazz\n6    31       1  Classical\n7    33       1  Classical\n8    37       1  Classical\n9    20       0      Dance\n10   21       0      Dance\n11   25       0      Dance\n12   26       0   Acoustic\n13   27       0   Acoustic\n14   30       0   Acoustic\n15   31       0  Classical\n16   34       0  Classical\n17   35       0  Classical",
      "text/html": "<div>\n<style scoped>\n    .dataframe tbody tr th:only-of-type {\n        vertical-align: middle;\n    }\n\n    .dataframe tbody tr th {\n        vertical-align: top;\n    }\n\n    .dataframe thead th {\n        text-align: right;\n    }\n</style>\n<table border=\"1\" class=\"dataframe\">\n  <thead>\n    <tr style=\"text-align: right;\">\n      <th></th>\n      <th>age</th>\n      <th>gender</th>\n      <th>genre</th>\n    </tr>\n  </thead>\n  <tbody>\n    <tr>\n      <th>0</th>\n      <td>20</td>\n      <td>1</td>\n      <td>HipHop</td>\n    </tr>\n    <tr>\n      <th>1</th>\n      <td>23</td>\n      <td>1</td>\n      <td>HipHop</td>\n    </tr>\n    <tr>\n      <th>2</th>\n      <td>25</td>\n      <td>1</td>\n      <td>HipHop</td>\n    </tr>\n    <tr>\n      <th>3</th>\n      <td>26</td>\n      <td>1</td>\n      <td>Jazz</td>\n    </tr>\n    <tr>\n      <th>4</th>\n      <td>29</td>\n      <td>1</td>\n      <td>Jazz</td>\n    </tr>\n    <tr>\n      <th>5</th>\n      <td>30</td>\n      <td>1</td>\n      <td>Jazz</td>\n    </tr>\n    <tr>\n      <th>6</th>\n      <td>31</td>\n      <td>1</td>\n      <td>Classical</td>\n    </tr>\n    <tr>\n      <th>7</th>\n      <td>33</td>\n      <td>1</td>\n      <td>Classical</td>\n    </tr>\n    <tr>\n      <th>8</th>\n      <td>37</td>\n      <td>1</td>\n      <td>Classical</td>\n    </tr>\n    <tr>\n      <th>9</th>\n      <td>20</td>\n      <td>0</td>\n      <td>Dance</td>\n    </tr>\n    <tr>\n      <th>10</th>\n      <td>21</td>\n      <td>0</td>\n      <td>Dance</td>\n    </tr>\n    <tr>\n      <th>11</th>\n      <td>25</td>\n      <td>0</td>\n      <td>Dance</td>\n    </tr>\n    <tr>\n      <th>12</th>\n      <td>26</td>\n      <td>0</td>\n      <td>Acoustic</td>\n    </tr>\n    <tr>\n      <th>13</th>\n      <td>27</td>\n      <td>0</td>\n      <td>Acoustic</td>\n    </tr>\n    <tr>\n      <th>14</th>\n      <td>30</td>\n      <td>0</td>\n      <td>Acoustic</td>\n    </tr>\n    <tr>\n      <th>15</th>\n      <td>31</td>\n      <td>0</td>\n      <td>Classical</td>\n    </tr>\n    <tr>\n      <th>16</th>\n      <td>34</td>\n      <td>0</td>\n      <td>Classical</td>\n    </tr>\n    <tr>\n      <th>17</th>\n      <td>35</td>\n      <td>0</td>\n      <td>Classical</td>\n    </tr>\n  </tbody>\n</table>\n</div>"
     },
     "execution_count": 1,
     "metadata": {},
     "output_type": "execute_result"
    }
   ],
   "source": [
    "import pandas as pd\n",
    "data=pd.read_csv('/Users/Jean/PycharmProjects/HelloWorld/materials/music.csv')\n",
    "data"
   ]
  },
  {
   "cell_type": "code",
   "outputs": [
    {
     "data": {
      "text/plain": "    age  gender\n0    20       1\n1    23       1\n2    25       1\n3    26       1\n4    29       1\n5    30       1\n6    31       1\n7    33       1\n8    37       1\n9    20       0\n10   21       0\n11   25       0\n12   26       0\n13   27       0\n14   30       0\n15   31       0\n16   34       0\n17   35       0",
      "text/html": "<div>\n<style scoped>\n    .dataframe tbody tr th:only-of-type {\n        vertical-align: middle;\n    }\n\n    .dataframe tbody tr th {\n        vertical-align: top;\n    }\n\n    .dataframe thead th {\n        text-align: right;\n    }\n</style>\n<table border=\"1\" class=\"dataframe\">\n  <thead>\n    <tr style=\"text-align: right;\">\n      <th></th>\n      <th>age</th>\n      <th>gender</th>\n    </tr>\n  </thead>\n  <tbody>\n    <tr>\n      <th>0</th>\n      <td>20</td>\n      <td>1</td>\n    </tr>\n    <tr>\n      <th>1</th>\n      <td>23</td>\n      <td>1</td>\n    </tr>\n    <tr>\n      <th>2</th>\n      <td>25</td>\n      <td>1</td>\n    </tr>\n    <tr>\n      <th>3</th>\n      <td>26</td>\n      <td>1</td>\n    </tr>\n    <tr>\n      <th>4</th>\n      <td>29</td>\n      <td>1</td>\n    </tr>\n    <tr>\n      <th>5</th>\n      <td>30</td>\n      <td>1</td>\n    </tr>\n    <tr>\n      <th>6</th>\n      <td>31</td>\n      <td>1</td>\n    </tr>\n    <tr>\n      <th>7</th>\n      <td>33</td>\n      <td>1</td>\n    </tr>\n    <tr>\n      <th>8</th>\n      <td>37</td>\n      <td>1</td>\n    </tr>\n    <tr>\n      <th>9</th>\n      <td>20</td>\n      <td>0</td>\n    </tr>\n    <tr>\n      <th>10</th>\n      <td>21</td>\n      <td>0</td>\n    </tr>\n    <tr>\n      <th>11</th>\n      <td>25</td>\n      <td>0</td>\n    </tr>\n    <tr>\n      <th>12</th>\n      <td>26</td>\n      <td>0</td>\n    </tr>\n    <tr>\n      <th>13</th>\n      <td>27</td>\n      <td>0</td>\n    </tr>\n    <tr>\n      <th>14</th>\n      <td>30</td>\n      <td>0</td>\n    </tr>\n    <tr>\n      <th>15</th>\n      <td>31</td>\n      <td>0</td>\n    </tr>\n    <tr>\n      <th>16</th>\n      <td>34</td>\n      <td>0</td>\n    </tr>\n    <tr>\n      <th>17</th>\n      <td>35</td>\n      <td>0</td>\n    </tr>\n  </tbody>\n</table>\n</div>"
     },
     "execution_count": 6,
     "metadata": {},
     "output_type": "execute_result"
    }
   ],
   "source": [
    "x=data.drop(columns=['genre'])\n",
    "y=data['genre']\n",
    "x"
   ],
   "metadata": {
    "collapsed": false,
    "ExecuteTime": {
     "end_time": "2024-01-04T06:33:17.018773Z",
     "start_time": "2024-01-04T06:33:17.004850Z"
    }
   },
   "id": "e1e9d7895c8d4ea",
   "execution_count": 6
  },
  {
   "cell_type": "code",
   "outputs": [
    {
     "name": "stderr",
     "output_type": "stream",
     "text": [
      "/Users/Jean/PycharmProjects/HelloWorld/.venv/lib/python3.12/site-packages/sklearn/base.py:465: UserWarning: X does not have valid feature names, but DecisionTreeClassifier was fitted with feature names\n",
      "  warnings.warn(\n"
     ]
    },
    {
     "data": {
      "text/plain": "array(['HipHop', 'Dance'], dtype=object)"
     },
     "execution_count": 8,
     "metadata": {},
     "output_type": "execute_result"
    }
   ],
   "source": [
    "from sklearn.tree import DecisionTreeClassifier\n",
    "model=DecisionTreeClassifier()\n",
    "model.fit(x,y)\n",
    "predictions=model.predict([[21,1],[22,0]])\n",
    "predictions\n"
   ],
   "metadata": {
    "collapsed": false,
    "ExecuteTime": {
     "end_time": "2024-01-04T07:25:18.681324Z",
     "start_time": "2024-01-04T07:25:18.559200Z"
    }
   },
   "id": "722e5ccc49a2f926",
   "execution_count": 8
  },
  {
   "cell_type": "code",
   "outputs": [
    {
     "data": {
      "text/plain": "0.2"
     },
     "execution_count": 24,
     "metadata": {},
     "output_type": "execute_result"
    }
   ],
   "source": [
    "# How to calculate the accuracy of prediction\n",
    "# 精准度會依照： 1.資料量大小 2. training量大小 與精准度呈現正相關\n",
    "\n",
    "from sklearn.model_selection import train_test_split\n",
    "from sklearn.metrics import accuracy_score\n",
    "# x_train, x_test, y_train, y_test=train_test_split(x,y,test_size=0.2)\n",
    "x_train, x_test, y_train, y_test=train_test_split(x,y,test_size=0.8) # training的data變少，這樣精准度會下降\n",
    "\n",
    "model.fit(x_train, y_train)\n",
    "predictions=model.predict(x_test)\n",
    "\n",
    "score=accuracy_score(y_test,predictions)\n",
    "score\n"
   ],
   "metadata": {
    "collapsed": false,
    "ExecuteTime": {
     "end_time": "2024-01-04T07:50:40.564519Z",
     "start_time": "2024-01-04T07:50:40.554512Z"
    }
   },
   "id": "f0ac1216d864407e",
   "execution_count": 24
  },
  {
   "cell_type": "code",
   "outputs": [],
   "source": [],
   "metadata": {
    "collapsed": false
   },
   "id": "1bb104d8aee82ce7"
  },
  {
   "cell_type": "code",
   "outputs": [
    {
     "name": "stderr",
     "output_type": "stream",
     "text": [
      "/Users/Jean/PycharmProjects/HelloWorld/.venv/lib/python3.12/site-packages/sklearn/base.py:465: UserWarning: X does not have valid feature names, but DecisionTreeClassifier was fitted with feature names\n",
      "  warnings.warn(\n"
     ]
    },
    {
     "data": {
      "text/plain": "array(['HipHop'], dtype=object)"
     },
     "execution_count": 26,
     "metadata": {},
     "output_type": "execute_result"
    }
   ],
   "source": [
    "# Model persistence：指的是將機器學習模型儲存到硬碟上，以便之後可以重新載入和使用。這對於在訓練後保存模型並在其他時間或不同程式中重複使用該模型非常有用。這樣做可以避免在每次需要使用模型時都重新訓練它，節省時間並保留模型的狀態\n",
    "#joblib函式庫來儲存和載入機器學習模型\n",
    "from joblib import dump\n",
    "from joblib import load\n",
    "dump(model,'music-recommender.joblib')\n",
    "model1=load('music-recommender.joblib')\n",
    "predictions1=model1.predict([[21,1]])\n",
    "predictions1\n"
   ],
   "metadata": {
    "collapsed": false,
    "ExecuteTime": {
     "end_time": "2024-01-04T08:41:49.622077Z",
     "start_time": "2024-01-04T08:41:49.522599Z"
    }
   },
   "id": "1d491eb11fc4db57",
   "execution_count": 26
  },
  {
   "cell_type": "code",
   "outputs": [],
   "source": [
    "from sklearn import tree\n",
    "model.fit(x,y)\n",
    "\n",
    "# feature_names=['age', 'gender'] 定義了特徵的名稱，用於在可視化決策樹時標記不同的特徵。\n",
    "# class_names=sorted(y.unique()) 定義了目標變數的類別名稱，這將在樹中顯示各個分類的名稱\n",
    "# label='all' 設置了節點上的標籤，這裡是將所有節點都標上標籤。\n",
    "# rounded=True 和 filled=True 則是設置了節點的外觀，讓決策樹在可視化時呈現出圓角和填充色彩。\n",
    "\n",
    "tree.export_graphviz(model,out_file='music-recommender.dot', feature_names=['age','gender'],class_names=sorted(y.unique()),label='all', rounded=True , filled=True)\n",
    "\n"
   ],
   "metadata": {
    "collapsed": false,
    "ExecuteTime": {
     "end_time": "2024-01-04T09:03:49.290495Z",
     "start_time": "2024-01-04T09:03:49.278650Z"
    }
   },
   "id": "4fc248be7cc506df",
   "execution_count": 29
  }
 ],
 "metadata": {
  "kernelspec": {
   "display_name": "Python 3",
   "language": "python",
   "name": "python3"
  },
  "language_info": {
   "codemirror_mode": {
    "name": "ipython",
    "version": 2
   },
   "file_extension": ".py",
   "mimetype": "text/x-python",
   "name": "python",
   "nbconvert_exporter": "python",
   "pygments_lexer": "ipython2",
   "version": "2.7.6"
  }
 },
 "nbformat": 4,
 "nbformat_minor": 5
}
